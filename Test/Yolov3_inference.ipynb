{
  "cells": [
    {
      "cell_type": "code",
      "execution_count": 1,
      "id": "b9a5a002",
      "metadata": {
        "lines_to_next_cell": 1,
        "id": "b9a5a002"
      },
      "outputs": [],
      "source": [
        "# load yolov3 model and perform object detection\n",
        "# based on https://github.com/experiencor/keras-yolo3\n",
        "import numpy as np\n",
        "from numpy import expand_dims\n",
        "from keras.models import load_model\n",
        "from keras.preprocessing.image import load_img\n",
        "from keras.preprocessing.image import img_to_array\n",
        "from matplotlib import pyplot\n",
        "from matplotlib.patches import Rectangle\n",
        "\n",
        "import os\n",
        "import re\n",
        "import shutil"
      ]
    },
    {
      "cell_type": "code",
      "source": [
        "#!pip install gdown\n",
        "def get_folder_path(folder_name, folder_url, colab_drive_path):\n",
        "    \"\"\"\n",
        "    Detect the environment (Colab or local) and handle a folder.\n",
        "    - In Colab: Use the folder directly from Google Drive.\n",
        "    - Locally: Check if the folder exists, and download it from Google Drive if missing.\n",
        "    \"\"\"\n",
        "    # Check if running in Colab\n",
        "    if 'COLAB_GPU' in os.environ:\n",
        "        print(\"Running in Google Colab\")\n",
        "\n",
        "        # Mount Google Drive\n",
        "        from google.colab import drive\n",
        "        drive.mount('/content/drive')\n",
        "\n",
        "        # Path to the folder in Google Drive\n",
        "        drive_folder_path = os.path.join(colab_drive_path, folder_name)\n",
        "\n",
        "        if os.path.exists(drive_folder_path):\n",
        "            print(f\"Using folder directly from Google Drive: {drive_folder_path}\")\n",
        "            return drive_folder_path\n",
        "        else:\n",
        "            raise FileNotFoundError(f\"Folder '{folder_name}' not found in Google Drive at {drive_folder_path}. Upload it first.\")\n",
        "\n",
        "    # If running locally (e.g., on KHADAS board)\n",
        "    else:\n",
        "        print(\"Running on local/board\")\n",
        "        local_folder_path = f\"../assets/{folder_name}\"  # Adjust local folder path as needed\n",
        "\n",
        "        if not os.path.exists(local_folder_path):\n",
        "            print(f\"Folder '{folder_name}' not found locally. Downloading from Google Drive...\")\n",
        "\n",
        "            # Extract folder ID from the Google Drive folder URL\n",
        "            match = re.search(r\"/folders/([^/]+)\", folder_url)\n",
        "            if not match:\n",
        "                raise ValueError(\"Invalid Google Drive folder link format.\")\n",
        "            folder_id = match.group(1)\n",
        "\n",
        "            # Use gdown to download the folder\n",
        "            os.system(f\"gdown --folder {folder_url} -O {local_folder_path}\")\n",
        "\n",
        "        else:\n",
        "            print(f\"Folder '{folder_name}' already exists locally.\")\n",
        "        return local_folder_path\n",
        "\n",
        "# Configuration\n",
        "folder_name = \"yolo\"\n",
        "colab_drive_path = \"/content/drive/MyDrive/Benchmarking\"\n",
        "folder_url = \"https://drive.google.com/drive/folders/1-CvPUnxVet-2U5DOaKrDxa1JPvHmgNnk?usp=sharing\"  # Replace with your folder link\n",
        "\n",
        "\n",
        "# Access the folder\n",
        "assets_path = get_folder_path(folder_name, folder_url, colab_drive_path)\n",
        "\n",
        "# Use the folder path\n",
        "#model_path = os.path.join(assets_path, \"Yolov3.h5\")\n",
        "#image_path = os.path.join(assets_path, \"Images\", \"zebra.jpg\")\n",
        "\n",
        "#print(f\"Model path: {model_path}\")\n",
        "#print(f\"Image path: {image_path}\")"
      ],
      "metadata": {
        "colab": {
          "base_uri": "https://localhost:8080/"
        },
        "id": "R3fxuKTMOGTA",
        "outputId": "1b8bb54b-5829-4e36-c9cd-7047bc2048a0"
      },
      "id": "R3fxuKTMOGTA",
      "execution_count": 2,
      "outputs": [
        {
          "output_type": "stream",
          "name": "stdout",
          "text": [
            "Running in Google Colab\n",
            "Mounted at /content/drive\n",
            "Using folder directly from Google Drive: /content/drive/MyDrive/Benchmarking/yolo\n"
          ]
        }
      ]
    },
    {
      "cell_type": "code",
      "source": [
        "if False:\n",
        "    def get_file_path(file_name, file_url, colab_drive_folder):\n",
        "        \"\"\"\n",
        "        Detect the environment (Colab or local) and handle any file dynamically.\n",
        "        - In Colab: Use the file directly from Google Drive.\n",
        "        - Locally: Check if the file exists, and download it from Google Drive if missing.\n",
        "        \"\"\"\n",
        "        # Check if running in Colab\n",
        "        if 'COLAB_GPU' in os.environ:\n",
        "            print(\"Running in Google Colab\")\n",
        "\n",
        "            # Mount Google Drive\n",
        "            from google.colab import drive\n",
        "            drive.mount('/content/drive')\n",
        "\n",
        "            # Path to the file in Google Drive\n",
        "            drive_file_path = os.path.join(colab_drive_folder, file_name)\n",
        "\n",
        "            if os.path.exists(drive_file_path):\n",
        "                print(f\"Using file directly from Google Drive: {drive_file_path}\")\n",
        "                return drive_file_path\n",
        "            else:\n",
        "                raise FileNotFoundError(f\"File '{file_name}' not found in Google Drive at {drive_file_path}. Upload it first.\")\n",
        "\n",
        "        # If running locally (e.g., on KHADAS board)\n",
        "        else:\n",
        "            print(\"Running on local/board\")\n",
        "            local_path = os.path.join('./', file_name)  # Adjust local folder path as needed\n",
        "\n",
        "            if not os.path.exists(local_path):\n",
        "                print(f\"File '{file_name}' not found locally. Downloading from Google Drive...\")\n",
        "\n",
        "                # Extract file ID from the Google Drive file URL\n",
        "                match = re.search(r\"/file/d/([^/]+)/\", file_url)\n",
        "                if not match:\n",
        "                    raise ValueError(\"Invalid Google Drive file link format.\")\n",
        "                file_id = match.group(1)\n",
        "                direct_link = f\"https://drive.google.com/uc?id={file_id}&export=download\"\n",
        "\n",
        "                # Download the file\n",
        "                os.makedirs(os.path.dirname(local_path), exist_ok=True)\n",
        "                os.system(f\"wget -O {local_path} {direct_link}\")\n",
        "                print(f\"Downloaded file to: {local_path}\")\n",
        "            else:\n",
        "                print(f\"File '{file_name}' already exists locally.\")\n",
        "            return local_path\n",
        "\n",
        "    model_file_name = \"Yolov3.h5\"\n",
        "    model_file_url = \"https://drive.google.com/file/d/1OysAY19cYXJb2dZW-44YN1aMWXxvgWvL/view?usp=sharing\"\n",
        "\n",
        "    image_file_name = \"image1.jpg\"\n",
        "    image_file_url = \"https://drive.google.com/file/d/1Eker78uyVBv_pnYhAGp1OCaAWfTW5C35/view?usp=sharing\"\n",
        "\n",
        "\n",
        "    colab_drive_folder = \"/content/drive/MyDrive/Benchmarking_Assets\"\n",
        "    # Access model file\n",
        "    model_path = get_file_path(model_file_name, model_file_url, colab_drive_folder)\n",
        "    print(f\"Model path: {model_path}\")\n",
        "\n",
        "    # Access input image\n",
        "    image_path = get_file_path(image_file_name, image_file_url, colab_drive_folder)\n",
        "    print(f\"Image path: {image_path}\")\n",
        "\n"
      ],
      "metadata": {
        "id": "qJtzxOsPN4XV"
      },
      "id": "qJtzxOsPN4XV",
      "execution_count": 3,
      "outputs": []
    },
    {
      "cell_type": "code",
      "source": [
        "\n",
        "\n",
        "def get_model_path():\n",
        "    \"\"\"\n",
        "    Detect the environment (Colab or local) and handle the model file.\n",
        "    - In Colab: Use the file directly from Google Drive.\n",
        "    - Locally: Check if the file exists, and download it from Google Drive if missing.\n",
        "    \"\"\"\n",
        "    model_filename = \"Yolov3.h5\"\n",
        "    model_url = \"https://drive.google.com/uc?id=1OysAY19cYXJb2dZW-44YN1aMWXxvgWvL&export=download\"  # Replace with your direct download link\n",
        "    #https://drive.google.com/file/d/1OysAY19cYXJb2dZW-44YN1aMWXxvgWvL/view?usp=sharing\n",
        "\n",
        "\n",
        "    # Check if running in Colab\n",
        "    if 'COLAB_GPU' in os.environ:\n",
        "        print(\"Running in Google Colab\")\n",
        "\n",
        "        # Mount Google Drive\n",
        "        from google.colab import drive\n",
        "        drive.mount('/content/drive')\n",
        "\n",
        "        # Path to the model in Google Drive\n",
        "        drive_model_path = \"/content/drive/MyDrive/Benchmarking_Models/Yolov3.h5\"  # Adjust path if needed\n",
        "\n",
        "        if os.path.exists(drive_model_path):\n",
        "            print(f\"Using model directly from Google Drive: {drive_model_path}\")\n",
        "            return drive_model_path\n",
        "        else:\n",
        "            raise FileNotFoundError(f\"Model file not found in Google Drive at {drive_model_path}. Upload it first.\")\n",
        "\n",
        "    # If running locally (e.g., on KHADAS board)\n",
        "    else:\n",
        "        print(\"Running on local/board\")\n",
        "        #local_path = f\"/home/khadas/Desktop/working_dir/{model_filename}\"  # Adjust as per your local setup\n",
        "        local_path = f\"{model_filename}\"  # Adjust as per your local setup\n",
        "\n",
        "        if not os.path.exists(local_path):\n",
        "            print(f\"Model file '{model_filename}' not found locally. Downloading from Google Drive...\")\n",
        "            os.makedirs(os.path.dirname(local_path), exist_ok=True)\n",
        "            os.system(f\"wget -O {local_path} {model_url}\")\n",
        "        else:\n",
        "            print(f\"Model file '{model_filename}' already exists locally.\")\n",
        "        return local_path\n",
        "\n",
        "\n",
        "# Load the model\n",
        "#model_path = get_model_path()\n",
        "#print(f\"Loading model from: {model_path}\")\n",
        "#model = load_model(model_path)\n"
      ],
      "metadata": {
        "id": "nKJaBZnyUzXp"
      },
      "id": "nKJaBZnyUzXp",
      "execution_count": 4,
      "outputs": []
    },
    {
      "cell_type": "code",
      "source": [],
      "metadata": {
        "id": "JQINkrRqKqKG"
      },
      "id": "JQINkrRqKqKG",
      "execution_count": 4,
      "outputs": []
    },
    {
      "cell_type": "code",
      "execution_count": 5,
      "id": "3c7f0e4d",
      "metadata": {
        "lines_to_next_cell": 1,
        "id": "3c7f0e4d"
      },
      "outputs": [],
      "source": [
        "class BoundBox:\n",
        "\tdef __init__(self, xmin, ymin, xmax, ymax, objness = None, classes = None):\n",
        "\t\tself.xmin = xmin\n",
        "\t\tself.ymin = ymin\n",
        "\t\tself.xmax = xmax\n",
        "\t\tself.ymax = ymax\n",
        "\t\tself.objness = objness\n",
        "\t\tself.classes = classes\n",
        "\t\tself.label = -1\n",
        "\t\tself.score = -1\n",
        "\n",
        "\tdef get_label(self):\n",
        "\t\tif self.label == -1:\n",
        "\t\t\tself.label = np.argmax(self.classes)\n",
        "\n",
        "\t\treturn self.label\n",
        "\n",
        "\tdef get_score(self):\n",
        "\t\tif self.score == -1:\n",
        "\t\t\tself.score = self.classes[self.get_label()]\n",
        "\n",
        "\t\treturn self.score"
      ]
    },
    {
      "cell_type": "code",
      "execution_count": 6,
      "id": "b839e34e",
      "metadata": {
        "lines_to_next_cell": 1,
        "id": "b839e34e"
      },
      "outputs": [],
      "source": [
        "def _sigmoid(x):\n",
        "\treturn 1. / (1. + np.exp(-x))"
      ]
    },
    {
      "cell_type": "code",
      "execution_count": 7,
      "id": "ae43368d",
      "metadata": {
        "lines_to_next_cell": 1,
        "id": "ae43368d"
      },
      "outputs": [],
      "source": [
        "def decode_netout(netout, anchors, obj_thresh, net_h, net_w):\n",
        "\tgrid_h, grid_w = netout.shape[:2]\n",
        "\tnb_box = 3\n",
        "\tnetout = netout.reshape((grid_h, grid_w, nb_box, -1))\n",
        "\tnb_class = netout.shape[-1] - 5\n",
        "\tboxes = []\n",
        "\tnetout[..., :2]  = _sigmoid(netout[..., :2])\n",
        "\tnetout[..., 4:]  = _sigmoid(netout[..., 4:])\n",
        "\tnetout[..., 5:]  = netout[..., 4][..., np.newaxis] * netout[..., 5:]\n",
        "\tnetout[..., 5:] *= netout[..., 5:] > obj_thresh\n",
        "\n",
        "\tfor i in range(grid_h*grid_w):\n",
        "\t\trow = i / grid_w\n",
        "\t\tcol = i % grid_w\n",
        "\t\tfor b in range(nb_box):\n",
        "\t\t\t# 4th element is objectness score\n",
        "\t\t\tobjectness = netout[int(row)][int(col)][b][4]\n",
        "\t\t\tif(objectness.all() <= obj_thresh): continue\n",
        "\t\t\t# first 4 elements are x, y, w, and h\n",
        "\t\t\tx, y, w, h = netout[int(row)][int(col)][b][:4]\n",
        "\t\t\tx = (col + x) / grid_w # center position, unit: image width\n",
        "\t\t\ty = (row + y) / grid_h # center position, unit: image height\n",
        "\t\t\tw = anchors[2 * b + 0] * np.exp(w) / net_w # unit: image width\n",
        "\t\t\th = anchors[2 * b + 1] * np.exp(h) / net_h # unit: image height\n",
        "\t\t\t# last elements are class probabilities\n",
        "\t\t\tclasses = netout[int(row)][col][b][5:]\n",
        "\t\t\tbox = BoundBox(x-w/2, y-h/2, x+w/2, y+h/2, objectness, classes)\n",
        "\t\t\tboxes.append(box)\n",
        "\treturn boxes"
      ]
    },
    {
      "cell_type": "code",
      "execution_count": 8,
      "id": "8b7a1ab1",
      "metadata": {
        "lines_to_next_cell": 1,
        "id": "8b7a1ab1"
      },
      "outputs": [],
      "source": [
        "def correct_yolo_boxes(boxes, image_h, image_w, net_h, net_w):\n",
        "\tnew_w, new_h = net_w, net_h\n",
        "\tfor i in range(len(boxes)):\n",
        "\t\tx_offset, x_scale = (net_w - new_w)/2./net_w, float(new_w)/net_w\n",
        "\t\ty_offset, y_scale = (net_h - new_h)/2./net_h, float(new_h)/net_h\n",
        "\t\tboxes[i].xmin = int((boxes[i].xmin - x_offset) / x_scale * image_w)\n",
        "\t\tboxes[i].xmax = int((boxes[i].xmax - x_offset) / x_scale * image_w)\n",
        "\t\tboxes[i].ymin = int((boxes[i].ymin - y_offset) / y_scale * image_h)\n",
        "\t\tboxes[i].ymax = int((boxes[i].ymax - y_offset) / y_scale * image_h)"
      ]
    },
    {
      "cell_type": "code",
      "execution_count": 9,
      "id": "3d7ecbfc",
      "metadata": {
        "lines_to_next_cell": 1,
        "id": "3d7ecbfc"
      },
      "outputs": [],
      "source": [
        "def _interval_overlap(interval_a, interval_b):\n",
        "\tx1, x2 = interval_a\n",
        "\tx3, x4 = interval_b\n",
        "\tif x3 < x1:\n",
        "\t\tif x4 < x1:\n",
        "\t\t\treturn 0\n",
        "\t\telse:\n",
        "\t\t\treturn min(x2,x4) - x1\n",
        "\telse:\n",
        "\t\tif x2 < x3:\n",
        "\t\t\t return 0\n",
        "\t\telse:\n",
        "\t\t\treturn min(x2,x4) - x3"
      ]
    },
    {
      "cell_type": "code",
      "execution_count": 10,
      "id": "935c1920",
      "metadata": {
        "lines_to_next_cell": 1,
        "id": "935c1920"
      },
      "outputs": [],
      "source": [
        "def bbox_iou(box1, box2):\n",
        "\tintersect_w = _interval_overlap([box1.xmin, box1.xmax], [box2.xmin, box2.xmax])\n",
        "\tintersect_h = _interval_overlap([box1.ymin, box1.ymax], [box2.ymin, box2.ymax])\n",
        "\tintersect = intersect_w * intersect_h\n",
        "\tw1, h1 = box1.xmax-box1.xmin, box1.ymax-box1.ymin\n",
        "\tw2, h2 = box2.xmax-box2.xmin, box2.ymax-box2.ymin\n",
        "\tunion = w1*h1 + w2*h2 - intersect\n",
        "\treturn float(intersect) / union"
      ]
    },
    {
      "cell_type": "code",
      "execution_count": 11,
      "id": "70246217",
      "metadata": {
        "lines_to_next_cell": 1,
        "id": "70246217"
      },
      "outputs": [],
      "source": [
        "def do_nms(boxes, nms_thresh):\n",
        "\tif len(boxes) > 0:\n",
        "\t\tnb_class = len(boxes[0].classes)\n",
        "\telse:\n",
        "\t\treturn\n",
        "\tfor c in range(nb_class):\n",
        "\t\tsorted_indices = np.argsort([-box.classes[c] for box in boxes])\n",
        "\t\tfor i in range(len(sorted_indices)):\n",
        "\t\t\tindex_i = sorted_indices[i]\n",
        "\t\t\tif boxes[index_i].classes[c] == 0: continue\n",
        "\t\t\tfor j in range(i+1, len(sorted_indices)):\n",
        "\t\t\t\tindex_j = sorted_indices[j]\n",
        "\t\t\t\tif bbox_iou(boxes[index_i], boxes[index_j]) >= nms_thresh:\n",
        "\t\t\t\t\tboxes[index_j].classes[c] = 0"
      ]
    },
    {
      "cell_type": "code",
      "execution_count": 12,
      "id": "07faf5f3",
      "metadata": {
        "lines_to_next_cell": 1,
        "id": "07faf5f3"
      },
      "outputs": [],
      "source": [
        "# load and prepare an image\n",
        "def load_image_pixels(filename, shape):\n",
        "\t# load the image to get its shape\n",
        "\timage = load_img(filename)\n",
        "\twidth, height = image.size\n",
        "\t# load the image with the required size\n",
        "\timage = load_img(filename, target_size=shape)\n",
        "\t# convert to numpy array\n",
        "\timage = img_to_array(image)\n",
        "\t# scale pixel values to [0, 1]\n",
        "\timage = image.astype('float32')\n",
        "\timage /= 255.0\n",
        "\t# add a dimension so that we have one sample\n",
        "\timage = expand_dims(image, 0)\n",
        "\treturn image, width, height"
      ]
    },
    {
      "cell_type": "code",
      "execution_count": 13,
      "id": "4f182c8a",
      "metadata": {
        "lines_to_next_cell": 1,
        "id": "4f182c8a"
      },
      "outputs": [],
      "source": [
        "# get all of the results above a threshold\n",
        "def get_boxes(boxes, labels, thresh):\n",
        "\tv_boxes, v_labels, v_scores = list(), list(), list()\n",
        "\t# enumerate all boxes\n",
        "\tfor box in boxes:\n",
        "\t\t# enumerate all possible labels\n",
        "\t\tfor i in range(len(labels)):\n",
        "\t\t\t# check if the threshold for this label is high enough\n",
        "\t\t\tif box.classes[i] > thresh:\n",
        "\t\t\t\tv_boxes.append(box)\n",
        "\t\t\t\tv_labels.append(labels[i])\n",
        "\t\t\t\tv_scores.append(box.classes[i]*100)\n",
        "\t\t\t\t# don't break, many labels may trigger for one box\n",
        "\treturn v_boxes, v_labels, v_scores"
      ]
    },
    {
      "cell_type": "code",
      "execution_count": 15,
      "id": "64f8818d",
      "metadata": {
        "lines_to_next_cell": 1,
        "id": "64f8818d",
        "colab": {
          "base_uri": "https://localhost:8080/",
          "height": 110
        },
        "outputId": "de1d1cd5-1002-4483-d20b-8a2596b26ab6"
      },
      "outputs": [
        {
          "output_type": "error",
          "ename": "IndentationError",
          "evalue": "unindent does not match any outer indentation level (<tokenize>, line 27)",
          "traceback": [
            "\u001b[0;36m  File \u001b[0;32m\"<tokenize>\"\u001b[0;36m, line \u001b[0;32m27\u001b[0m\n\u001b[0;31m    pyplot.axis(\"off\")\u001b[0m\n\u001b[0m    ^\u001b[0m\n\u001b[0;31mIndentationError\u001b[0m\u001b[0;31m:\u001b[0m unindent does not match any outer indentation level\n"
          ]
        }
      ],
      "source": [
        "# draw all results\n",
        "def draw_boxes(filename, v_boxes, v_labels, v_scores, output_filename=\"output.jpg\"):\n",
        "\t# load the image\n",
        "\tdata = pyplot.imread(filename)\n",
        "\t# plot the image\n",
        "\tpyplot.imshow(data)\n",
        "\t# get the context for drawing boxes\n",
        "\tax = pyplot.gca()\n",
        "\t# plot each box\n",
        "\tfor i in range(len(v_boxes)):\n",
        "\t\tbox = v_boxes[i]\n",
        "\t\t# get coordinates\n",
        "\t\ty1, x1, y2, x2 = box.ymin, box.xmin, box.ymax, box.xmax\n",
        "\t\tprint(v_labels[i],x1,y1,x2,y2,v_scores[i])\n",
        "\t\t# calculate width and height of the box\n",
        "\t\twidth, height = x2 - x1, y2 - y1\n",
        "\t\t# create the shape\n",
        "\t\trect = Rectangle((x1, y1), width, height, fill=False, color='white')\n",
        "\t\t# draw the box\n",
        "\t\tax.add_patch(rect)\n",
        "\t\t# draw text and score in top left corner\n",
        "\t\tlabel = \"%s (%.3f)\" % (v_labels[i], v_scores[i])\n",
        "\t\tpyplot.text(x1, y1, label, color='white')\n",
        "\t# show the plot\n",
        "\tpyplot.show()\n",
        " # Turn off axis for cleaner output\n",
        "  pyplot.axis(\"off\")\n",
        "  # Save the plot to a file\n",
        "  pyplot.savefig(output_filename, bbox_inches='tight', pad_inches=0, dpi=300)\n",
        "  print(f\"Output saved to {output_filename}\")\n",
        "  # Clear the plot for the next use\n",
        "  pyplot.close()"
      ]
    },
    {
      "cell_type": "code",
      "execution_count": null,
      "id": "799c0c4c",
      "metadata": {
        "lines_to_next_cell": 2,
        "id": "799c0c4c"
      },
      "outputs": [],
      "source": [
        "# draw all results\n",
        "def extract_results(v_boxes, v_labels, v_scores):\n",
        "\tfor i in range(len(v_boxes)):\n",
        "\t\tbox = v_boxes[i]\n",
        "\t\t# get coordinates\n",
        "\t\ty1, x1, y2, x2 = box.ymin, box.xmin, box.ymax, box.xmax\n",
        "\t\tprint(v_labels[i],v_scores[i],x1,y1,x2,y2,)"
      ]
    },
    {
      "cell_type": "code",
      "execution_count": null,
      "id": "65dd8cf8",
      "metadata": {
        "id": "65dd8cf8"
      },
      "outputs": [],
      "source": [
        "# load yolov3 model #######################\n",
        "\n",
        "#get model path\n",
        "#model_path = get_model_path()\n",
        "# Use the folder path\n",
        "model_path = os.path.join(assets_path, \"Yolov3.h5\")\n",
        "\n",
        "print(f\"Loading model from: {model_path}\")\n",
        "model = load_model(model_path)\n",
        "#############################################\n",
        "\n",
        "\n",
        "\n",
        "######  input #################################\n",
        "# define the expected input shape for the model\n",
        "##input_w, input_h = 416, 416\n",
        "input_w, input_h = 608, 608\n",
        "\n",
        "# define our new photo\n",
        "#image_path = 'zebra.jpg'\n",
        "image_path = os.path.join(assets_path, \"Images\", \"zebra.jpg\")\n",
        "# load and prepare image\n",
        "print(f\"Image path: {image_path}\")\n",
        "image, image_w, image_h = load_image_pixels(image_path, (input_w, input_h))\n",
        "###################################################\n",
        "\n",
        "\n",
        "\n",
        "\n",
        "\n",
        "# make prediction #############################\n",
        "yhat = model.predict(image)\n",
        "# summarize the shape of the list of arrays\n",
        "#print(yhat)\n",
        "#input()\n",
        "print([a.shape for a in yhat])\n",
        "#input()\n",
        "# define the anchors\n",
        "anchors = [[116,90, 156,198, 373,326], [30,61, 62,45, 59,119], [10,13, 16,30, 33,23]]\n",
        "'''\n",
        "[yolo]\n",
        "mask = 0,1,2\n",
        "anchors = 10,13,  16,30,  33,23,  30,61,  62,45,  59,119,  116,90,  156,198,  373,326\n",
        "classes=80\n",
        "num=9\n",
        "jitter=.3\n",
        "ignore_thresh = .7\n",
        "truth_thresh = 1\n",
        "random=1\n",
        "'''\n",
        "# define the probability threshold for detected objects\n",
        "class_threshold = 0.6\n",
        "boxes = list()\n",
        "for i in range(len(yhat)):\n",
        "\t# decode the output of the network\n",
        "\tboxes += decode_netout(yhat[i][0], anchors[i], class_threshold, input_h, input_w)"
      ]
    },
    {
      "cell_type": "code",
      "execution_count": null,
      "id": "1aefba23",
      "metadata": {
        "id": "1aefba23"
      },
      "outputs": [],
      "source": [
        "# correct the sizes of the bounding boxes for the shape of the image\n",
        "correct_yolo_boxes(boxes, image_h, image_w, input_h, input_w)"
      ]
    },
    {
      "cell_type": "code",
      "execution_count": null,
      "id": "619536a4",
      "metadata": {
        "id": "619536a4"
      },
      "outputs": [],
      "source": [
        "# suppress non-maximal boxes\n",
        "do_nms(boxes, 0.5)"
      ]
    },
    {
      "cell_type": "code",
      "execution_count": null,
      "id": "d097a603",
      "metadata": {
        "id": "d097a603"
      },
      "outputs": [],
      "source": [
        "# define the labels\n",
        "labels = [\"person\", \"bicycle\", \"car\", \"motorbike\", \"aeroplane\", \"bus\", \"train\", \"truck\",\n",
        "\t\"boat\", \"traffic light\", \"fire hydrant\", \"stop sign\", \"parking meter\", \"bench\",\n",
        "\t\"bird\", \"cat\", \"dog\", \"horse\", \"sheep\", \"cow\", \"elephant\", \"bear\", \"zebra\", \"giraffe\",\n",
        "\t\"backpack\", \"umbrella\", \"handbag\", \"tie\", \"suitcase\", \"frisbee\", \"skis\", \"snowboard\",\n",
        "\t\"sports ball\", \"kite\", \"baseball bat\", \"baseball glove\", \"skateboard\", \"surfboard\",\n",
        "\t\"tennis racket\", \"bottle\", \"wine glass\", \"cup\", \"fork\", \"knife\", \"spoon\", \"bowl\", \"banana\",\n",
        "\t\"apple\", \"sandwich\", \"orange\", \"broccoli\", \"carrot\", \"hot dog\", \"pizza\", \"donut\", \"cake\",\n",
        "\t\"chair\", \"sofa\", \"pottedplant\", \"bed\", \"diningtable\", \"toilet\", \"tvmonitor\", \"laptop\", \"mouse\",\n",
        "\t\"remote\", \"keyboard\", \"cell phone\", \"microwave\", \"oven\", \"toaster\", \"sink\", \"refrigerator\",\n",
        "\t\"book\", \"clock\", \"vase\", \"scissors\", \"teddy bear\", \"hair drier\", \"toothbrush\"]\n",
        "# get the details of the detected objects\n",
        "v_boxes, v_labels, v_scores = get_boxes(boxes, labels, class_threshold)"
      ]
    },
    {
      "cell_type": "code",
      "execution_count": null,
      "id": "82c46c7a",
      "metadata": {
        "id": "82c46c7a"
      },
      "outputs": [],
      "source": [
        "# summarize what we found\n",
        "for i in range(len(v_boxes)):\n",
        "\tprint(v_labels[i], v_scores[i])\n",
        "# draw what we found\n",
        "draw_boxes(image_path, v_boxes, v_labels, v_scores)\n",
        "# detection-results\n",
        "extract_results(v_boxes, v_labels, v_scores)"
      ]
    },
    {
      "cell_type": "code",
      "execution_count": null,
      "id": "6b060566",
      "metadata": {
        "lines_to_next_cell": 2,
        "id": "6b060566"
      },
      "outputs": [],
      "source": []
    },
    {
      "cell_type": "code",
      "execution_count": null,
      "id": "539d0cc2",
      "metadata": {
        "id": "539d0cc2"
      },
      "outputs": [],
      "source": [
        "def get_yolo_boxes(model, images, net_h, net_w, anchors, obj_thresh, nms_thresh):\n",
        "    image_h, image_w, _ = images[0].shape\n",
        "    nb_images           = len(images)\n",
        "    batch_input         = np.zeros((nb_images, net_h, net_w, 3))\n",
        "\n",
        "    # preprocess the input\n",
        "    for i in range(nb_images):\n",
        "        batch_input[i] = preprocess_input(images[i], net_h, net_w)\n",
        "\n",
        "    # run the prediction\n",
        "    batch_output = model.predict_on_batch(batch_input)\n",
        "    batch_boxes  = [None]*nb_images\n",
        "\n",
        "    for i in range(nb_images):\n",
        "        yolos = [batch_output[0][i], batch_output[1][i], batch_output[2][i]]\n",
        "        boxes = []\n",
        "\n",
        "        # decode the output of the network\n",
        "        for j in range(len(yolos)):\n",
        "            yolo_anchors = anchors[(2-j)*6:(3-j)*6] # config['model']['anchors']\n",
        "            boxes += decode_netout(yolos[j], yolo_anchors, obj_thresh, net_h, net_w)\n",
        "\n",
        "        # correct the sizes of the bounding boxes\n",
        "        correct_yolo_boxes(boxes, image_h, image_w, net_h, net_w)\n",
        "\n",
        "        # suppress non-maximal boxes\n",
        "        do_nms(boxes, nms_thresh)\n",
        "\n",
        "        batch_boxes[i] = boxes\n",
        "\n",
        "    return batch_boxes"
      ]
    }
  ],
  "metadata": {
    "jupytext": {
      "cell_metadata_filter": "-all",
      "main_language": "python",
      "notebook_metadata_filter": "-all"
    },
    "kernelspec": {
      "display_name": "Python 3 (ipykernel)",
      "language": "python",
      "name": "python3"
    },
    "language_info": {
      "codemirror_mode": {
        "name": "ipython",
        "version": 3
      },
      "file_extension": ".py",
      "mimetype": "text/x-python",
      "name": "python",
      "nbconvert_exporter": "python",
      "pygments_lexer": "ipython3",
      "version": "3.10.12"
    },
    "colab": {
      "provenance": [],
      "toc_visible": true
    }
  },
  "nbformat": 4,
  "nbformat_minor": 5
}